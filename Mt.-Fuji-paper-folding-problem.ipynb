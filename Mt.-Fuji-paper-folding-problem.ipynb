{
 "cells": [
  {
   "cell_type": "code",
   "execution_count": 2,
   "id": "fb6f2747",
   "metadata": {},
   "outputs": [
    {
     "name": "stdout",
     "output_type": "stream",
     "text": [
      "The desired number of folds is: 25.492283523798655 paper folds\n"
     ]
    }
   ],
   "source": [
    "##[Problem 1] How many times to fold paper to exceed the height of Mt.Fuji?\n",
    "def number_of_times_to_foldpaper(desired_thickness, THICKNESS0 = 0.00008):\n",
    "    import math\n",
    "    x = desired_thickness / THICKNESS0\n",
    "    no_paper_folds = math.log ( x , 2) #this is derived by making n, in tn = to * 2**n, the subject\n",
    "    return no_paper_folds\n",
    "print (\"The desired number of folds is: {} paper folds\" .format(number_of_times_to_foldpaper(3776.0)))"
   ]
  },
  {
   "cell_type": "code",
   "execution_count": 4,
   "id": "1ffb581e",
   "metadata": {},
   "outputs": [
    {
     "name": "stdout",
     "output_type": "stream",
     "text": [
      "The number of folds to the nearest non-sun star, Proxima Centauri, is: 68.76678801653497 paper folds\n"
     ]
    }
   ],
   "source": [
    "# [Problem 2] Function corresponding to arbitrary thickness\n",
    "print (\"The number of folds to the nearest non-sun star, Proxima Centauri, is: {} paper folds\" .format(number_of_times_to_foldpaper(40175000000000000)))"
   ]
  },
  {
   "cell_type": "code",
   "execution_count": 40,
   "id": "0b082828",
   "metadata": {},
   "outputs": [
    {
     "name": "stdout",
     "output_type": "stream",
     "text": [
      "The desired number of folds to reach the moon is: 42.12767356964738 paper folds\n",
      "The length of paper to reach nearest sun star is: 1.0563805737851905e+37 meters\n",
      "The length of paper to reach Mt Fuji is: 93319549629.64012 meters\n",
      "The length of paper to reach the moon: 9.671089296792426e+20 meters\n"
     ]
    }
   ],
   "source": [
    "def number_of_times_to_foldpaper(desired_thickness, THICKNESS0 = 0.00008):\n",
    "    import math\n",
    "    x = desired_thickness / THICKNESS0\n",
    "    no_paper_folds = math.log ( x , 2) #this is derived by making n, in tn = to * 2**n, the subject\n",
    "    return no_paper_folds\n",
    "print (\"The desired number of folds to reach the moon is: {} paper folds\" .format(number_of_times_to_foldpaper(384400000)))\n",
    "\n",
    "#[Problem 3] Required paper length\n",
    "def calculate_length_of_paper (no_folds, THICKNESS0 = 0.00008): #new function for calculating the length of paper\n",
    "    import math\n",
    "    L = math.pi * THICKNESS0/6 * (pow (2,no_folds) + 4) * (pow(2,no_folds) - 1)\n",
    "    return L\n",
    "print (\"The length of paper to reach nearest sun star is: {} meters\" . format (calculate_length_of_paper (68.76678801653497)))\n",
    "print (\"The length of paper to reach Mt Fuji is: {} meters\" . format (calculate_length_of_paper (25.492283523798655)))\n",
    "print (\"The length of paper to reach the moon: {} meters\" . format (calculate_length_of_paper(42.12767356964738)))"
   ]
  },
  {
   "cell_type": "code",
   "execution_count": null,
   "id": "f264a2e1",
   "metadata": {},
   "outputs": [],
   "source": []
  },
  {
   "cell_type": "code",
   "execution_count": null,
   "id": "356ca929",
   "metadata": {},
   "outputs": [],
   "source": []
  },
  {
   "cell_type": "code",
   "execution_count": null,
   "id": "719b7c09",
   "metadata": {},
   "outputs": [],
   "source": []
  }
 ],
 "metadata": {
  "kernelspec": {
   "display_name": "Python 3",
   "language": "python",
   "name": "python3"
  },
  "language_info": {
   "codemirror_mode": {
    "name": "ipython",
    "version": 3
   },
   "file_extension": ".py",
   "mimetype": "text/x-python",
   "name": "python",
   "nbconvert_exporter": "python",
   "pygments_lexer": "ipython3",
   "version": "3.8.8"
  }
 },
 "nbformat": 4,
 "nbformat_minor": 5
}
